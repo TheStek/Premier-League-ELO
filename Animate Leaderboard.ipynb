{
 "cells": [
  {
   "cell_type": "code",
   "execution_count": 66,
   "metadata": {},
   "outputs": [],
   "source": [
    "import numpy as np\n",
    "import pandas as pd\n",
    "import matplotlib.pyplot as plt\n",
    "import seaborn as sns\n",
    "\n",
    "sns.set_theme()"
   ]
  },
  {
   "cell_type": "code",
   "execution_count": 67,
   "metadata": {},
   "outputs": [],
   "source": [
    "match_history = pd.read_csv(\"Data/Team Histories.csv\")\n",
    "matches = pd.read_csv(\"Data/Match Data.csv\")"
   ]
  },
  {
   "cell_type": "code",
   "execution_count": 68,
   "metadata": {},
   "outputs": [],
   "source": [
    "dates = sorted(np.unique(match_history[\"Date\"]))"
   ]
  },
  {
   "cell_type": "code",
   "execution_count": 69,
   "metadata": {},
   "outputs": [],
   "source": [
    "date_season = matches[[\"Date\", \"Season\"]].drop_duplicates().set_index(\"Date\").to_dict(orient = \"index\")\n",
    "\n",
    "teams_in_season = {season: matches[matches[\"Season\"] == season][\"Home\"].unique() for season in matches[\"Season\"].unique()}\n"
   ]
  },
  {
   "cell_type": "code",
   "execution_count": 70,
   "metadata": {},
   "outputs": [],
   "source": [
    "from ipywidgets import IntProgress\n",
    "from IPython.display import display\n",
    "\n",
    "from matplotlib.animation import FuncAnimation\n",
    "\n",
    "import time\n",
    "\n",
    "\n",
    "\n",
    "def getElosOnDate(date):\n",
    "    most_recent_elos = match_history[match_history[\"Date\"] < date].sort_values(\"Date\").groupby(\"Team\").tail(1).sort_values(\"New Elo\")\n",
    "    return most_recent_elos[most_recent_elos[\"Team\"].isin(teams_in_season[date_season[date][\"Season\"]])]\n",
    "\n",
    "\n",
    "\n",
    "\n",
    "def calculateTimeRemaining(ts, n):\n",
    "    average_time = np.mean(ts)\n",
    "    seconds_remaining = (n - len(times)) * average_time\n",
    "\n",
    "    m, s = divmod(seconds_remaining, 60)\n",
    "    if m >= 0:\n",
    "        return f\"{int(m)}:{np.round(s, 1)}\"\n",
    "\n",
    "def animate(i):\n",
    "    \n",
    "    times.append(time.time())\n",
    "\n",
    "    if len(times) >= 2:\n",
    "        time_deltas.append(times[-1] -  times[-2])\n",
    "\n",
    "        print(f\"Estimated time remaining: {calculateTimeRemaining(time_deltas, N)}\", end = '\\r')\n",
    "\n",
    "    \n",
    "    \n",
    "    elos = getElosOnDate(dates[i])\n",
    "\n",
    "    ax.clear()\n",
    "    ax.barh(elos[\"Team\"], elos[\"New Elo\"])\n",
    "    ax.set_title(dates[i])\n",
    "    ax.set_ylabel(\"Elo\")\n",
    "        \n",
    "    f.value += 1\n",
    "\n",
    "    \n",
    "\n",
    "    return ax\n",
    "\n"
   ]
  },
  {
   "cell_type": "code",
   "execution_count": 71,
   "metadata": {},
   "outputs": [
    {
     "data": {
      "application/vnd.jupyter.widget-view+json": {
       "model_id": "04a799fe8148474faeb6b0eb80ab7f91",
       "version_major": 2,
       "version_minor": 0
      },
      "text/plain": [
       "IntProgress(value=0, max=3168)"
      ]
     },
     "metadata": {},
     "output_type": "display_data"
    },
    {
     "name": "stdout",
     "output_type": "stream",
     "text": [
      "Estimated time remaining: None010\r"
     ]
    },
    {
     "data": {
      "image/png": "[encoded data removed]",
      "text/plain": [
       "<Figure size 1080x720 with 1 Axes>"
      ]
     },
     "metadata": {},
     "output_type": "display_data"
    }
   ],
   "source": [
    "fig, ax = plt.subplots(figsize = (15, 10))\n",
    "\n",
    "\n",
    "times = []\n",
    "time_deltas = []\n",
    "\n",
    "\n",
    "N = len(dates)\n",
    "\n",
    "f = IntProgress(min=0, max=N)\n",
    "display(f)\n",
    "\n",
    "ani = FuncAnimation(fig, animate, frames = N, interval = 100, repeat = False)\n",
    "ani.save(\"PL ELO History.mp4\")"
   ]
  }
 ],
 "metadata": {
  "interpreter": {
   "hash": "75ed1a394eb75df15f365765e2fc7bdbca77848145245286ebb32d2f521fb0d4"
  },
  "kernelspec": {
   "display_name": "Python 3.7.9 ('py3iaml')",
   "language": "python",
   "name": "python3"
  },
  "language_info": {
   "codemirror_mode": {
    "name": "ipython",
    "version": 3
   },
   "file_extension": ".py",
   "mimetype": "text/x-python",
   "name": "python",
   "nbconvert_exporter": "python",
   "pygments_lexer": "ipython3",
   "version": "3.7.9"
  }
 },
 "nbformat": 4,
 "nbformat_minor": 4
}
